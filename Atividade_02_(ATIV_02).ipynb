{
  "nbformat": 4,
  "nbformat_minor": 0,
  "metadata": {
    "colab": {
      "provenance": []
    },
    "kernelspec": {
      "name": "python3",
      "display_name": "Python 3"
    },
    "language_info": {
      "name": "python"
    }
  },
  "cells": [
    {
      "cell_type": "markdown",
      "source": [],
      "metadata": {
        "id": "93dWxV7Xl3qV"
      }
    },
    {
      "cell_type": "markdown",
      "source": [
        "Aluna: Nicole Souza Batista"
      ],
      "metadata": {
        "id": "SREmrmwFl5Gx"
      }
    },
    {
      "cell_type": "code",
      "source": [
        "# Questão 01\n",
        "\n",
        "def pegar_impares():\n",
        "\n",
        "  lista_numeros = input(\"Insira uma lista de números separados por espaço: \")\n",
        "  numeros = [int(num) for num in lista_numeros.split()]\n",
        "\n",
        "  impares = [num for num in numeros if num % 2 != 0]\n",
        "  return impares\n",
        "\n",
        "\n",
        "impares = pegar_impares()\n",
        "print(\"Números ímpares da lista: \", impares)"
      ],
      "metadata": {
        "colab": {
          "base_uri": "https://localhost:8080/"
        },
        "id": "Jp6-nk2Tl926",
        "outputId": "356b59fc-e281-48c0-b079-426894a97146"
      },
      "execution_count": 6,
      "outputs": [
        {
          "output_type": "stream",
          "name": "stdout",
          "text": [
            "Insira uma lista de números separados por espaço: 1 2 344 5 5 6 5  3 2 \n",
            "Números ímpares da lista:  [1, 5, 5, 5, 3]\n"
          ]
        }
      ]
    },
    {
      "cell_type": "code",
      "source": [
        "# Questão 2\n",
        "\n",
        "def tem_primo(num):\n",
        "    if num < 2:\n",
        "        return False\n",
        "    for i in range(2, int(num**0.5) + 1):\n",
        "        if num % i == 0:\n",
        "            return False\n",
        "    return True\n",
        "\n",
        "def lista_primos():\n",
        "\n",
        "  lista_numeros = input(\"Insira uma lista de números separados por espaço: \")\n",
        "  numeros = [int(num) for num in lista_numeros.split()]\n",
        "\n",
        "  primos = [num for num in numeros if tem_primo(num)]\n",
        "  return primos\n",
        "\n",
        "\n",
        "primos = lista_primos()\n",
        "print(\"Números primos da lista: \", primos)"
      ],
      "metadata": {
        "colab": {
          "base_uri": "https://localhost:8080/"
        },
        "id": "uZ33dr9jouTW",
        "outputId": "7ede4b46-ba9b-480c-9f91-8a703a942445"
      },
      "execution_count": 7,
      "outputs": [
        {
          "output_type": "stream",
          "name": "stdout",
          "text": [
            "Insira uma lista de números separados por espaço: 1 2 3 4 5 6 7 8 9 0 10 1  1 2 2 \n",
            "Números primos da lista:  [2, 3, 5, 7, 2, 2]\n"
          ]
        }
      ]
    },
    {
      "cell_type": "code",
      "source": [
        "# Questão 3\n",
        "\n",
        "def diferenca_listas(l1, l2):\n",
        "    unicos_lista1 = set(l1) - set(l2)\n",
        "    unicos_lista2 = set(l2) - set(l1)\n",
        "    return list(unicos_lista1.union(unicos_lista2))\n",
        "\n",
        "l1 = [9, 6, 3, 21]\n",
        "l2 = [21, 3, 20, 42]\n",
        "diferentes = diferenca_listas(l1, l2)\n",
        "print(\"Elementos diferentes entre as duas listas:\", diferentes)"
      ],
      "metadata": {
        "colab": {
          "base_uri": "https://localhost:8080/"
        },
        "id": "SD5-JoYwqtMW",
        "outputId": "22ee773e-7cd5-4486-df5a-2b230a0bbf85"
      },
      "execution_count": 10,
      "outputs": [
        {
          "output_type": "stream",
          "name": "stdout",
          "text": [
            "Elementos diferentes entre as duas listas: [9, 42, 20, 6]\n"
          ]
        }
      ]
    },
    {
      "cell_type": "code",
      "source": [
        "# Questão 4\n",
        "\n",
        "def segundo_maior():\n",
        "    lista_numeros = input(\"Insira uma lista de números separados por espaço: \")\n",
        "    lista = [int(num) for num in lista_numeros.split()]\n",
        "\n",
        "    unicos = list(set(lista))\n",
        "    unicos.sort(reverse=True)\n",
        "    if len(unicos) >= 2:\n",
        "        return unicos[1]\n",
        "    else:\n",
        "        return \"Forneça mais valores para a lista.\"\n",
        "\n",
        "resultado = segundo_maior()\n",
        "print(\"O segundo maior valor da lista é:\", resultado)"
      ],
      "metadata": {
        "colab": {
          "base_uri": "https://localhost:8080/"
        },
        "id": "caUE5Kk2rdth",
        "outputId": "7e4d9b28-4340-4526-a772-f2ae27a50253"
      },
      "execution_count": 12,
      "outputs": [
        {
          "output_type": "stream",
          "name": "stdout",
          "text": [
            "Insira uma lista de números separados por espaço: 3 4 5 8 9 21 6 0 32\n",
            "O segundo maior valor da lista é: 21\n"
          ]
        }
      ]
    },
    {
      "cell_type": "code",
      "source": [
        "# Questão 5\n",
        "\n",
        "def ordenar_por_nome(lista):\n",
        "    return sorted(lista, key=lambda pessoa: pessoa[0])\n",
        "\n",
        "pessoas = [(\"Clara\", 21), (\"Nicole\", 21), (\"Geto\", 19), (\"Gojo\", 22)]\n",
        "ordenada = ordenar_por_nome(pessoas)\n",
        "print(\"Lista ordenada por nome:\", ordenada)"
      ],
      "metadata": {
        "colab": {
          "base_uri": "https://localhost:8080/"
        },
        "id": "e_emP7kLsjxE",
        "outputId": "75d20169-f0a7-49d5-9ad1-b546333970b2"
      },
      "execution_count": 13,
      "outputs": [
        {
          "output_type": "stream",
          "name": "stdout",
          "text": [
            "Lista ordenada por nome: [('Clara', 21), ('Geto', 19), ('Gojo', 22), ('Nicole', 21)]\n"
          ]
        }
      ]
    },
    {
      "cell_type": "code",
      "source": [
        "# Questão 6\n",
        "\n",
        "import matplotlib.pyplot as plt\n",
        "import numpy as np\n",
        "\n",
        "fig, axs = plt.subplots(ncols=2, nrows=2, figsize=(5.5, 3.5), layout=\"constrained\")\n",
        "\n",
        "for row in range(2):\n",
        "    for col in range(2):\n",
        "        axs[row, col].annotate(f'axs[{row}, {col}]', (0.5, 0.5),\n",
        "                               transform=axs[row, col].transAxes,\n",
        "                               ha='center', va='center', fontsize=18,\n",
        "                               color='darkgrey')\n",
        "\n",
        "fig.suptitle('plt.subplots()')\n",
        "plt.show()"
      ],
      "metadata": {
        "id": "T9dcfqAvv9-C"
      },
      "execution_count": null,
      "outputs": []
    },
    {
      "cell_type": "code",
      "source": [
        "# Questão 7\n",
        "\n",
        "import numpy as np\n",
        "import matplotlib as mpl\n",
        "import matplotlib.pyplot as plt\n",
        "\n",
        "x = np.linspace(-2 * np.pi, 2 * np.pi, 100)\n",
        "y = np.sin(x)\n",
        "\n",
        "fig, ax = plt.subplots()\n",
        "ax.plot(x, y)"
      ],
      "metadata": {
        "id": "sjFa6iW-wJhy"
      },
      "execution_count": null,
      "outputs": []
    },
    {
      "cell_type": "code",
      "source": [
        "# Questão 8\n",
        "\n",
        "# Utilizar o método “head()” com o número necessário de linhas como argumento.\n",
        "titanic = pd.read_csv(\"data/titanic.csv\")\n",
        "titanic.head(8)"
      ],
      "metadata": {
        "id": "s6s52xzPyQTU"
      },
      "execution_count": null,
      "outputs": []
    },
    {
      "cell_type": "code",
      "source": [
        "# Questão 9\n",
        "\n",
        "# Selecionar uma coluna específica:\n",
        "age_sex = titanic[[\"Age\", \"Sex\"]]\n",
        "age_sex.head()\n",
        "\n",
        "# Filtrar linhas:\n",
        "titanic[\"Age\"] > 35"
      ],
      "metadata": {
        "id": "VuE0dTPPx4hu"
      },
      "execution_count": null,
      "outputs": []
    },
    {
      "cell_type": "code",
      "source": [
        "# Questão 10\n",
        "\n",
        "# O método “isna()” do pandas pode ser usado para verificar quais valores são ausentes em um “DataFrame” ou em colunas específicas.\n",
        "# O método retorna uma matriz booleana com “True” onde os valores são nulos e “False” onde os valores estão presentes.\n",
        "valores_ausentes = df.isna()\n",
        "coluna_valores_ausentes = df['coluna'].isna()"
      ],
      "metadata": {
        "id": "NGJBFRn_yZhd"
      },
      "execution_count": null,
      "outputs": []
    }
  ]
}